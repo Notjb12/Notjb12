{
 "cells": [
  {
   "cell_type": "code",
   "execution_count": 1,
   "id": "dfccc33f-8be2-48aa-8743-47177638c94c",
   "metadata": {},
   "outputs": [],
   "source": [
    "import tkinter\n",
    "from tkinter import *\n",
    "from tkinter.font import Font\n",
    "from tkinter import messagebox\n",
    "def btnclick():\n",
    "    messagebox.showinfo(\"messagebox\",\"submit button clicked!\")\n",
    "def btnclick1():\n",
    "    messagebox.showerror(\"messagebox\",\"submit button clicked!\")\n",
    "def btnclick2():\n",
    "    messagebox.showwarning(\"messagebox\",\"submit button clicked!\")\n",
    "def btnclick3():\n",
    "    messagebox.askyesnocancel(\"messagebox\",\"submit button clicked!\")\n",
    "def btnclick4():\n",
    "    messagebox.askretrycancel(\"messagebox\",\"submit button clicked!\")\n",
    "def btnclick5():\n",
    "    messagebox.askokcancel(\"messagebox\",\"submit button clicked!\")\n",
    "def btnclick6():\n",
    "    messagebox.askyesno(\"messagebox\",\"submit button clicked!\")    \n",
    "window=tkinter.Tk()\n",
    "window.geometry(\"500x500\")\n",
    "window.title(\"label widget\")\n",
    "myfont=Font(family=\"times\",size=20,weight=\"bold\")\n",
    "label=Label(window,text=\"UserName\",font=myfont,bg=\"green\",fg=\"white\",padx=15,pady=15,width=15)\n",
    "label.pack()\n",
    "btn=Button(window,text=\"Submit\",bg=\"blue\",fg=\"black\",padx=15,pady=15,width=15,font=myfont,command=btnclick)\n",
    "btn.pack()\n",
    "btn1=Button(window,text=\"Submit\",bg=\"blue\",fg=\"black\",padx=15,pady=15,width=15,font=myfont,command=btnclick1)\n",
    "btn1.pack()\n",
    "btn2=Button(window,text=\"Submit\",bg=\"blue\",fg=\"black\",padx=15,pady=15,width=15,font=myfont,command=btnclick2)\n",
    "btn2.pack()\n",
    "btn3=Button(window,text=\"Submit\",bg=\"blue\",fg=\"black\",padx=15,pady=15,width=15,font=myfont,command=btnclick3)\n",
    "btn3.pack()\n",
    "btn4=Button(window,text=\"Submit\",bg=\"blue\",fg=\"black\",padx=15,pady=15,width=15,font=myfont,command=btnclick4)\n",
    "btn4.pack()\n",
    "btn5=Button(window,text=\"Submit\",bg=\"blue\",fg=\"black\",padx=15,pady=15,width=15,font=myfont,command=btnclick5)\n",
    "btn5.pack()\n",
    "btn6=Button(window,text=\"Submit\",bg=\"blue\",fg=\"black\",padx=15,pady=15,width=15,font=myfont,command=btnclick6)\n",
    "btn6.pack()\n",
    "window.mainloop()"
   ]
  },
  {
   "cell_type": "code",
   "execution_count": 2,
   "id": "bb944b1f-44b1-4c16-adde-8a1cda9b2a19",
   "metadata": {},
   "outputs": [],
   "source": [
    "import tkinter\n",
    "from tkinter import *\n",
    "from tkinter.font import Font\n",
    "from tkinter import messagebox\n",
    "def getdata():\n",
    "    data=inputbox.get()\n",
    "    messagebox.showinfo(\"message\",data)\n",
    "window1=tkinter.Tk()\n",
    "window1.geometry(\"500x500\")\n",
    "window1.title(\"label widget\")\n",
    "myfont=Font(family=\"times\",size=20,weight=\"bold\")\n",
    "inputbox=Entry(window1,width=30,show=\"*\",selectbackground=\"red\",selectforeground=\"white\",font=myfont)\n",
    "\n",
    "inputbox.pack()\n",
    "button=Button(window1,text=\"Get\",bg=\"green\",width=15,command=getdata)\n",
    "button.pack()\n",
    "window1.mainloop()"
   ]
  },
  {
   "cell_type": "code",
   "execution_count": 19,
   "id": "d822980b-909a-4aef-8828-1f876616ccca",
   "metadata": {},
   "outputs": [],
   "source": [
    "import tkinter\n",
    "from tkinter import *\n",
    "from tkinter.font import Font\n",
    "from tkinter import messagebox\n",
    "def myfun():\n",
    "    if gender.get()==1:\n",
    "        data=male.cget(\"text\")\n",
    "        messagebox.showinfo(\"message\",data)\n",
    "    elif gender.get()==2:\n",
    "        data=female.cget(\"text\")\n",
    "        messagebox.showinfo(\"message\",data)\n",
    "    else:\n",
    "        data=others.cget(\"text\")\n",
    "        messagebox.showinfo(\"message\",data)    \n",
    "window1=Tk()\n",
    "window1.geometry(\"500x500\")\n",
    "window1.title(\"widgets\")\n",
    "myfont=Font(family=\"times\",size=15,weight=\"bold\")\n",
    "gender=IntVar()\n",
    "male=Radiobutton(window1,text=\"male\",variable=gender,value=1,bg=\"green\")\n",
    "male.pack()\n",
    "female=Radiobutton(window1,text=\"female\",variable=gender,value=2,bg=\"blue\")\n",
    "female.pack()\n",
    "others=Radiobutton(window1,text=\"others\",variable=gender,value=3,bg=\"red\")\n",
    "others.pack()\n",
    "button=Button(window1,text=\"click\",bg=\"purple\",font=myfont,padx=15,pady=15,width=20,command=myfun)\n",
    "button.pack()\n",
    "window1.mainloop()"
   ]
  },
  {
   "cell_type": "code",
   "execution_count": 4,
   "id": "e0065396-8b0c-4959-b2d2-653118b3b983",
   "metadata": {},
   "outputs": [],
   "source": [
    "import tkinter\n",
    "from tkinter import *\n",
    "display1=tkinter.Tk()\n",
    "display1.title(\"menu widget\")\n",
    "display1.geometry(\"500x500\")\n",
    "menubar=Menu(display1)\n",
    "filemenu=Menu(menubar,tearoff=0)\n",
    "filemenu.add_command(label=\"new\")\n",
    "filemenu.add_command(label=\"open\")\n",
    "filemenu.add_separator()\n",
    "filemenu.add_command(label=\"save\")\n",
    "filemenu.add_command(label=\"save as\")\n",
    "filemenu.add_separator()\n",
    "filemenu.add_command(label=\"close\")\n",
    "filemenu.add_command(label=\"exit\")\n",
    "menubar.add_cascade(label=\"File\",menu=filemenu)\n",
    "display1.config(menu=menubar)\n",
    "editmenu=Menu(menubar,tearoff=0)\n",
    "editmenu.add_command(label=\"cut\")\n",
    "editmenu.add_command(label=\"copy\")\n",
    "editmenu.add_separator()\n",
    "editmenu.add_command(label=\"paste\")\n",
    "editmenu.add_command(label=\"undo\")\n",
    "editmenu.add_separator()\n",
    "editmenu.add_command(label=\"redo\")\n",
    "menubar.add_cascade(label=\"Edit\",menu=editmenu)\n",
    "display1.mainloop()"
   ]
  },
  {
   "cell_type": "code",
   "execution_count": null,
   "id": "e07c3973-3968-47c4-8e2d-c4c1731ec2af",
   "metadata": {},
   "outputs": [],
   "source": [
    "Check Button Shows Error "
   ]
  },
  {
   "cell_type": "code",
   "execution_count": 5,
   "id": "4f3a6476-ff7f-4b3b-8c2e-6210e52c3aac",
   "metadata": {},
   "outputs": [
    {
     "ename": "NameError",
     "evalue": "name 'root' is not defined",
     "output_type": "error",
     "traceback": [
      "\u001b[1;31m---------------------------------------------------------------------------\u001b[0m",
      "\u001b[1;31mNameError\u001b[0m                                 Traceback (most recent call last)",
      "Cell \u001b[1;32mIn[5], line 1\u001b[0m\n\u001b[1;32m----> 1\u001b[0m python\u001b[38;5;241m=\u001b[39mCheckbutton(\u001b[43mroot\u001b[49m,text\u001b[38;5;241m=\u001b[39m\u001b[38;5;124m\"\u001b[39m\u001b[38;5;124mpython\u001b[39m\u001b[38;5;124m\"\u001b[39m,variable\u001b[38;5;241m=\u001b[39mcourse,onvalue\u001b[38;5;241m=\u001b[39m\u001b[38;5;241m1\u001b[39m)\n\u001b[0;32m      2\u001b[0m python\u001b[38;5;241m.\u001b[39mpack()\n\u001b[0;32m      3\u001b[0m java\u001b[38;5;241m=\u001b[39mCheckbutton(root,text\u001b[38;5;241m=\u001b[39m\u001b[38;5;124m\"\u001b[39m\u001b[38;5;124mjava\u001b[39m\u001b[38;5;124m\"\u001b[39m,variable\u001b[38;5;241m=\u001b[39mcourse,onvalue\u001b[38;5;241m=\u001b[39m\u001b[38;5;241m2\u001b[39m)\n",
      "\u001b[1;31mNameError\u001b[0m: name 'root' is not defined"
     ]
    }
   ],
   "source": [
    "python=Checkbutton(root,text=\"python\",variable=course,onvalue=1)\n",
    "python.pack()\n",
    "java=Checkbutton(root,text=\"java\",variable=course,onvalue=2)\n",
    "java.pack()\n",
    "react=Checkbutton(root,text=\"react\",variable=course,onvalue=3)\n",
    "react.pack()\n",
    "javascript=Checkbutton(root,text=\"javascript\",variable=course,onvalue=4)\n",
    "javascript.pack()"
   ]
  },
  {
   "cell_type": "code",
   "execution_count": null,
   "id": "75e55b02-4bef-4bd4-9fd6-b1e467510c2a",
   "metadata": {},
   "outputs": [],
   "source": []
  }
 ],
 "metadata": {
  "kernelspec": {
   "display_name": "Python 3 (ipykernel)",
   "language": "python",
   "name": "python3"
  },
  "language_info": {
   "codemirror_mode": {
    "name": "ipython",
    "version": 3
   },
   "file_extension": ".py",
   "mimetype": "text/x-python",
   "name": "python",
   "nbconvert_exporter": "python",
   "pygments_lexer": "ipython3",
   "version": "3.12.3"
  }
 },
 "nbformat": 4,
 "nbformat_minor": 5
}
