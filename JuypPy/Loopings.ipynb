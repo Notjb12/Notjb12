{
 "cells": [
  {
   "cell_type": "code",
   "execution_count": 1,
   "id": "08e22773-1c24-429e-a988-8d4d4b619a91",
   "metadata": {},
   "outputs": [
    {
     "name": "stdout",
     "output_type": "stream",
     "text": [
      "0\n",
      "1\n",
      "2\n",
      "3\n",
      "4\n",
      "6\n",
      "7\n",
      "8\n",
      "9\n",
      "compeleted\n"
     ]
    }
   ],
   "source": [
    "for x in range(10):\n",
    "    if x==5:\n",
    "        continue\n",
    "    print(x)\n",
    "else:\n",
    "    print(\"compeleted\")"
   ]
  },
  {
   "cell_type": "code",
   "execution_count": 3,
   "id": "4504c5fc-331d-41a7-83a3-4e734c527e22",
   "metadata": {},
   "outputs": [
    {
     "name": "stdout",
     "output_type": "stream",
     "text": [
      "apple red\n",
      "apple blue\n",
      "apple white\n",
      "pineapple red\n",
      "pineapple blue\n",
      "pineapple white\n",
      "cherry red\n",
      "cherry blue\n",
      "cherry white\n",
      "orange red\n",
      "orange blue\n",
      "orange white\n"
     ]
    }
   ],
   "source": [
    "fruits=[\"apple\",\"pineapple\",\"cherry\",\"orange\"]\n",
    "color=[\"red\",\"blue\",\"white\"]\n",
    "for i in fruits:\n",
    "    for j in color:\n",
    "        print(i,j)"
   ]
  },
  {
   "cell_type": "code",
   "execution_count": null,
   "id": "c212e186-02f4-44fd-bcf1-ba32bbf2e8b2",
   "metadata": {},
   "outputs": [],
   "source": []
  },
  {
   "cell_type": "code",
   "execution_count": null,
   "id": "d0f62b41-2c37-4fde-b585-60d79f3556bd",
   "metadata": {},
   "outputs": [],
   "source": []
  },
  {
   "cell_type": "code",
   "execution_count": null,
   "id": "8cafe8fb-f980-4cb1-a7c1-99fdfd8d760d",
   "metadata": {},
   "outputs": [],
   "source": []
  },
  {
   "cell_type": "code",
   "execution_count": null,
   "id": "903b54cd-95e4-47dd-996b-05aef4eacc42",
   "metadata": {},
   "outputs": [],
   "source": []
  },
  {
   "cell_type": "code",
   "execution_count": null,
   "id": "f45102f4-fe26-4c73-b897-06df93376df4",
   "metadata": {},
   "outputs": [],
   "source": []
  },
  {
   "cell_type": "code",
   "execution_count": null,
   "id": "cbff7b38-5a71-4220-a166-4083cb50190b",
   "metadata": {},
   "outputs": [],
   "source": []
  },
  {
   "cell_type": "code",
   "execution_count": null,
   "id": "eb58dd19-8443-4f21-b043-e05c12afe196",
   "metadata": {},
   "outputs": [],
   "source": []
  }
 ],
 "metadata": {
  "kernelspec": {
   "display_name": "Python 3 (ipykernel)",
   "language": "python",
   "name": "python3"
  },
  "language_info": {
   "codemirror_mode": {
    "name": "ipython",
    "version": 3
   },
   "file_extension": ".py",
   "mimetype": "text/x-python",
   "name": "python",
   "nbconvert_exporter": "python",
   "pygments_lexer": "ipython3",
   "version": "3.12.2"
  }
 },
 "nbformat": 4,
 "nbformat_minor": 5
}
