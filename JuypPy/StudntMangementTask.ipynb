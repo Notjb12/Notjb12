{
 "cells": [
  {
   "cell_type": "code",
   "execution_count": 3,
   "id": "063fbe46-e387-4bfd-a4c9-f61ed6ff0dfa",
   "metadata": {},
   "outputs": [
    {
     "name": "stdin",
     "output_type": "stream",
     "text": [
      "Enter the number of students that you want to update!:- 1\n"
     ]
    }
   ],
   "source": [
    "n=int(input(\"Enter the number of students that you want to update!:-\"))\n"
   ]
  },
  {
   "cell_type": "code",
   "execution_count": null,
   "id": "c4da0d10-782d-4d40-bc2f-290518c62b74",
   "metadata": {},
   "outputs": [],
   "source": []
  }
 ],
 "metadata": {
  "kernelspec": {
   "display_name": "Python 3 (ipykernel)",
   "language": "python",
   "name": "python3"
  },
  "language_info": {
   "codemirror_mode": {
    "name": "ipython",
    "version": 3
   },
   "file_extension": ".py",
   "mimetype": "text/x-python",
   "name": "python",
   "nbconvert_exporter": "python",
   "pygments_lexer": "ipython3",
   "version": "3.12.3"
  }
 },
 "nbformat": 4,
 "nbformat_minor": 5
}
