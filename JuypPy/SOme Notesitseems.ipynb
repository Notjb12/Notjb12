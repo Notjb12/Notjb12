{
 "cells": [
  {
   "cell_type": "code",
   "execution_count": 14,
   "id": "3da76998-ba49-4d7f-933f-9e4abaa1b920",
   "metadata": {},
   "outputs": [],
   "source": [
    "from tkinter import *\n",
    "disp=Tk()\n",
    "disp.title('ShortNote')\n",
    "lable=Label(text='Click here to creat some short notes....')\n",
    "lable.pack()\n",
    "ent=Entry()\n",
    "ent.pack()\n",
    "disp.geometry(\"500x500\")\n",
    "disp.mainloop()"
   ]
  },
  {
   "cell_type": "code",
   "execution_count": null,
   "id": "fa1d0b1b-416a-426b-8a2b-66dd062e5d33",
   "metadata": {},
   "outputs": [],
   "source": []
  }
 ],
 "metadata": {
  "kernelspec": {
   "display_name": "Python 3 (ipykernel)",
   "language": "python",
   "name": "python3"
  },
  "language_info": {
   "codemirror_mode": {
    "name": "ipython",
    "version": 3
   },
   "file_extension": ".py",
   "mimetype": "text/x-python",
   "name": "python",
   "nbconvert_exporter": "python",
   "pygments_lexer": "ipython3",
   "version": "3.12.3"
  }
 },
 "nbformat": 4,
 "nbformat_minor": 5
}
