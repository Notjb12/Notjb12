{
 "cells": [
  {
   "cell_type": "code",
   "execution_count": 14,
   "id": "21f58f00-6e4d-4b70-b5d8-950f3d72ed4b",
   "metadata": {},
   "outputs": [
    {
     "name": "stdin",
     "output_type": "stream",
     "text": [
      "enter your name Jaivishnu\n",
      "enter your age 14\n"
     ]
    },
    {
     "name": "stdout",
     "output_type": "stream",
     "text": [
      "56\n"
     ]
    }
   ],
   "source": [
    "name=input(\"enter your name\")\n",
    "age=int(input(\"enter your age\"))\n",
    "if age<=5:\n",
    "    print(2*age+5)\n",
    "elif age<=15:\n",
    "    print(4*age)"
   ]
  },
  {
   "cell_type": "code",
   "execution_count": 22,
   "id": "3d29124b-0b74-41ab-802a-f0ca3c75813a",
   "metadata": {},
   "outputs": [
    {
     "name": "stdout",
     "output_type": "stream",
     "text": [
      "Welcome to ChatGPT version 0.1\n",
      "I am here to help with you\n",
      "Dont hesitate to ask the questions that you are looking ahed\n",
      "GPT: Hello person\n"
     ]
    },
    {
     "name": "stdin",
     "output_type": "stream",
     "text": [
      "Me:  hi\n"
     ]
    },
    {
     "name": "stdout",
     "output_type": "stream",
     "text": [
      "GPT: Hello again, This is ChatGPT. I am here to help you\n"
     ]
    },
    {
     "name": "stdin",
     "output_type": "stream",
     "text": [
      "Me:  how are you\n",
      "Me:  i am not fine\n"
     ]
    },
    {
     "name": "stdout",
     "output_type": "stream",
     "text": [
      "GPT: I'm sorry to hear that. Want to talk about what's going on? I'm here to listen and help however I can.\n"
     ]
    },
    {
     "name": "stdin",
     "output_type": "stream",
     "text": [
      "Me:  no thanks\n"
     ]
    },
    {
     "name": "stdout",
     "output_type": "stream",
     "text": [
      "GPT: Alright, no problem. If you ever change your mind or need anything, I'm here for you. Is there something else you'd like to chat about or need help with?\n"
     ]
    },
    {
     "name": "stdin",
     "output_type": "stream",
     "text": [
      "Me:  tell me about yourself\n"
     ]
    },
    {
     "name": "stdout",
     "output_type": "stream",
     "text": [
      "This is ChatGPT version 0.1. I was created by the person who have started learning for higher stidies. I am not yet well developed, but still will help yourself that you are looking for!.......\n"
     ]
    }
   ],
   "source": [
    "print(\"Welcome to ChatGPT version 0.1\")\n",
    "print(\"I am here to help with you\")\n",
    "print(\"Dont hesitate to ask the questions that you are looking ahed\")\n",
    "\n",
    "print(\"GPT: Hello person\")\n",
    "reply=input(\"Me: \")\n",
    "if reply==\"hi\":\n",
    "    print(\"GPT: Hello again, This is ChatGPT. I am here to help you\")\n",
    "repl=input(\"Me: \")\n",
    "if repl==\"how are you\":\n",
    "    print(\"GPT: Yea i am fine, how are you too?\")\n",
    "re=input(\"Me: \")\n",
    "if re==\"i am fine too\":\n",
    "    print(\"GPT: Good to hear! What can I help you with today? :)\")\n",
    "elif re==\"i am not fine\":\n",
    "    print(\"GPT: I'm sorry to hear that. Want to talk about what's going on? I'm here to listen and help however I can.\")\n",
    "r=input(\"Me: \")\n",
    "if r==\"help me with that\":\n",
    "    print(\"Of course, I'm here for you. What's been bothering you? Let's see if we can figure it out together.\")\n",
    "elif r==\"no thanks\":\n",
    "    print(\"GPT: Alright, no problem. If you ever change your mind or need anything, I'm here for you. Is there something else you'd like to chat about or need help with?\")\n",
    "rep=input(\"Me: \")\n",
    "if rep==\"tell me about yourself\":\n",
    "    print(\"This is ChatGPT version 0.1. I was created by the person who have started learning for higher stidies. I am not yet well developed, but still will help yourself that you are looking for!.......\")"
   ]
  },
  {
   "cell_type": "code",
   "execution_count": 26,
   "id": "015d8aa6-0c6c-446b-bf31-62ff829e2da8",
   "metadata": {},
   "outputs": [
    {
     "name": "stdout",
     "output_type": "stream",
     "text": [
      "Welcome to Know everything! About Cars.....\n",
      "This is Nelsan, I am hear to help u with that\n",
      "Kindly fill those information that you are looking for............\n",
      "The Cars that are avaiable /nSwift /naudi /nbmw\n"
     ]
    },
    {
     "name": "stdin",
     "output_type": "stream",
     "text": [
      "Enter your name Jaibalaji\n",
      "Enter the model of the CAR that you are looking for!.... Swift\n"
     ]
    },
    {
     "name": "stdout",
     "output_type": "stream",
     "text": [
      "The price of Maruti Swift, a 5 seater Hatchback, ranges from Rs. 6.49 - 9.64 Lakh. It is available in 11 variants, with an engine of 1197 cc and a choice of 2 transmissions: Manual and Automatic. Swift comes with 6 airbags. Maruti Swift has a ground clearance of 163 mm and is available in 9 colours. Users have reported a mileage of 24.8 to 25.75 kmpl for Swift.\n",
      "These are the some informations about the cars that you are looking ahed.\n",
      "For more Details fill the details below......\n"
     ]
    }
   ],
   "source": [
    "print(\"Welcome to Know everything! About Cars.....\")\n",
    "print(\"This is Nelsan, I am hear to help u with that\")\n",
    "print(\"Kindly fill those information that you are looking for............\")\n",
    "\n",
    "print(\"The Cars that are avaiable /nSwift /naudi /nbmw\")\n",
    "name=input(\"Enter your name\")\n",
    "car=input(\"Enter the model of the CAR that you are looking for!....\")\n",
    "if car==\"Swift\":\n",
    "    print(\"The price of Maruti Swift, a 5 seater Hatchback, ranges from Rs. 6.49 - 9.64 Lakh. It is available in 11 variants, with an engine of 1197 cc and a choice of 2 transmissions: Manual and Automatic. Swift comes with 6 airbags. Maruti Swift has a ground clearance of 163 mm and is available in 9 colours. Users have reported a mileage of 24.8 to 25.75 kmpl for Swift.\")\n",
    "elif car==\"audi\":\n",
    "    print(\"Established in 1909, Audi is a world-famous car brand representing luxury vehicles. Since its beginning, the German auto manufacturer has come a long way. If you are an Audi fan, we totally understand why – and we have compiled a list of some interesting Audi facts and history.\")\n",
    "    print(\"And the symbol represents, Four interlocking rings symbolised the merger of four automobile manufacturers based in the German state of Saxony: Audi, DKW, Horch and Wanderer became Auto Union AG, then the second-largest motor vehicle manufacturing group in Germany. Here are brief details of the roots of today's AUDI AG.\")\n",
    "elif car==\"bmw\":\n",
    "    print(\"Bavarian Motor Works (Bayerische Motoren Worke in German) or BMW is a German luxury automobile manufacturer that was founded back in 1916. Headquartered in Munich, the brand made its debut in India in 2006. The Indian arm of the company has its headquarters in Gurugram while their factory is located in Chennai.\")\n",
    "elif car==\"rolls royce\":\n",
    "    print(\"A Rolls-Royce is more than a motor car. It is a work of art, hand-made to order exclusively for you, by our team of highly skilled craftspeople and designers. Whatever you imagine your ideal motor car to be, bring your unique vision to life with Rolls-Royce Bespoke.\")\n",
    "\n",
    "print(\"These are the some informations about the cars that you are looking ahed.\")\n",
    "print(\"For more Details fill the details below......\")"
   ]
  },
  {
   "cell_type": "code",
   "execution_count": null,
   "id": "91731200-3ad4-4d47-9e6a-55fdd903d991",
   "metadata": {},
   "outputs": [],
   "source": []
  }
 ],
 "metadata": {
  "kernelspec": {
   "display_name": "Python 3 (ipykernel)",
   "language": "python",
   "name": "python3"
  },
  "language_info": {
   "codemirror_mode": {
    "name": "ipython",
    "version": 3
   },
   "file_extension": ".py",
   "mimetype": "text/x-python",
   "name": "python",
   "nbconvert_exporter": "python",
   "pygments_lexer": "ipython3",
   "version": "3.12.3"
  }
 },
 "nbformat": 4,
 "nbformat_minor": 5
}
