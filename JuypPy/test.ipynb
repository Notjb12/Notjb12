{
 "cells": [
  {
   "cell_type": "code",
   "execution_count": 8,
   "id": "48a6ce91-a058-4ad5-b967-5137f1a42410",
   "metadata": {},
   "outputs": [
    {
     "name": "stdin",
     "output_type": "stream",
     "text": [
      "Enter the symbol *\n"
     ]
    },
    {
     "name": "stdout",
     "output_type": "stream",
     "text": [
      "*\n",
      "**\n",
      "***\n",
      "****\n",
      "*****\n"
     ]
    }
   ],
   "source": [
    "n=input(\"Enter the symbol\")\n",
    "if n=='*':\n",
    "    print('*')\n",
    "    print('**')\n",
    "    print('***')\n",
    "    print('****')\n",
    "    print('*****')"
   ]
  },
  {
   "cell_type": "code",
   "execution_count": 9,
   "id": "8be09df7-c8e1-4731-a49c-9ada4ecb97a3",
   "metadata": {},
   "outputs": [
    {
     "name": "stdout",
     "output_type": "stream",
     "text": [
      "      A \n",
      "     A B \n",
      "    A B C \n",
      "   A B C D \n",
      "  A B C D E \n"
     ]
    }
   ],
   "source": [
    "n = 5\n",
    "alph = 65\n",
    "for i in range(0, n):\n",
    "    print(\" \" * (n-i), end=\" \")\n",
    "    for j in range(0, i+1):\n",
    "        print(chr(alph), end=\" \")\n",
    "        alph += 1\n",
    "    alph = 65\n",
    "    print()"
   ]
  },
  {
   "cell_type": "code",
   "execution_count": 10,
   "id": "4ecce108-d442-4c9b-a97b-7f6392e77ffd",
   "metadata": {},
   "outputs": [
    {
     "name": "stdout",
     "output_type": "stream",
     "text": [
      "    1\n",
      "   123\n",
      "  12345\n",
      " 1234567\n",
      "123456789\n"
     ]
    }
   ],
   "source": [
    "def print_number_pyramid(rows):\n",
    "    for i in range(1, rows + 1):\n",
    "        # Print spaces\n",
    "        for j in range(rows - i):\n",
    "            print(\" \", end=\"\")\n",
    "        # Print numbers\n",
    "        for j in range(2 * i - 1):\n",
    "            print(j + 1, end=\"\")\n",
    "        # Move to the next line after each row\n",
    "        print()\n",
    "\n",
    "# Example usage\n",
    "num_rows = 5\n",
    "print_number_pyramid(num_rows)"
   ]
  },
  {
   "cell_type": "code",
   "execution_count": 11,
   "id": "4797eef5-59bf-4add-acb4-331300aa4b37",
   "metadata": {},
   "outputs": [
    {
     "name": "stdout",
     "output_type": "stream",
     "text": [
      "* \n",
      "* * \n",
      "* * * \n",
      "* * * * \n",
      "* * * * * \n"
     ]
    }
   ],
   "source": [
    "# Function to print a half pyramid pattern\n",
    "def half_pyramid(n):\n",
    "    for i in range(1, n + 1):\n",
    "        for j in range(1, i + 1):\n",
    "            print(\"* \", end=\"\")\n",
    "        print(\"\")\n",
    "\n",
    "# Example: Print a half pyramid with 5 rows\n",
    "n = 5\n",
    "half_pyramid(n)\n"
   ]
  },
  {
   "cell_type": "code",
   "execution_count": 13,
   "id": "f4a78f9c-297a-48f6-9168-771ec3c6192c",
   "metadata": {},
   "outputs": [
    {
     "name": "stdout",
     "output_type": "stream",
     "text": [
      "Current time is time.struct_time(tm_year=2024, tm_mon=6, tm_mday=25, tm_hour=9, tm_min=18, tm_sec=42, tm_wday=1, tm_yday=177, tm_isdst=0)\n"
     ]
    }
   ],
   "source": [
    "import time\n",
    "\n",
    "currenttime= time.localtime(time.time())\n",
    "print(\"Current time is\", currenttime)\n"
   ]
  },
  {
   "cell_type": "code",
   "execution_count": 3,
   "id": "f8665190-8097-4b80-94b4-b06af2bad3f3",
   "metadata": {},
   "outputs": [
    {
     "name": "stdin",
     "output_type": "stream",
     "text": [
      "Enter the 1st number 2\n",
      "Enter the 2nd number 4\n"
     ]
    },
    {
     "name": "stdout",
     "output_type": "stream",
     "text": [
      "\n",
      "add\n",
      "sub\n",
      "multi\n",
      "div\n",
      "modulo\n"
     ]
    },
    {
     "name": "stdin",
     "output_type": "stream",
     "text": [
      "Enter the selection div\n"
     ]
    },
    {
     "name": "stdout",
     "output_type": "stream",
     "text": [
      "0.5\n"
     ]
    },
    {
     "name": "stdin",
     "output_type": "stream",
     "text": [
      "Enter the 1st number stop\n"
     ]
    },
    {
     "ename": "ValueError",
     "evalue": "invalid literal for int() with base 10: 'stop'",
     "output_type": "error",
     "traceback": [
      "\u001b[1;31m---------------------------------------------------------------------------\u001b[0m",
      "\u001b[1;31mValueError\u001b[0m                                Traceback (most recent call last)",
      "Cell \u001b[1;32mIn[3], line 2\u001b[0m\n\u001b[0;32m      1\u001b[0m \u001b[38;5;28;01mwhile\u001b[39;00m \u001b[38;5;28;01mTrue\u001b[39;00m:\n\u001b[1;32m----> 2\u001b[0m     n1\u001b[38;5;241m=\u001b[39m\u001b[38;5;28;43mint\u001b[39;49m\u001b[43m(\u001b[49m\u001b[38;5;28;43minput\u001b[39;49m\u001b[43m(\u001b[49m\u001b[38;5;124;43m\"\u001b[39;49m\u001b[38;5;124;43mEnter the 1st number\u001b[39;49m\u001b[38;5;124;43m\"\u001b[39;49m\u001b[43m)\u001b[49m\u001b[43m)\u001b[49m\n\u001b[0;32m      3\u001b[0m     n2\u001b[38;5;241m=\u001b[39m\u001b[38;5;28mint\u001b[39m(\u001b[38;5;28minput\u001b[39m(\u001b[38;5;124m\"\u001b[39m\u001b[38;5;124mEnter the 2nd number\u001b[39m\u001b[38;5;124m\"\u001b[39m))\n\u001b[0;32m      4\u001b[0m     \u001b[38;5;28mprint\u001b[39m(\u001b[38;5;124m\"\u001b[39m\u001b[38;5;130;01m\\n\u001b[39;00m\u001b[38;5;124madd\u001b[39m\u001b[38;5;124m\"\u001b[39m)\n",
      "\u001b[1;31mValueError\u001b[0m: invalid literal for int() with base 10: 'stop'"
     ]
    }
   ],
   "source": [
    "while True:\n",
    "    n1=int(input(\"Enter the 1st number\"))\n",
    "    n2=int(input(\"Enter the 2nd number\"))\n",
    "    print(\"\\nadd\")\n",
    "    print(\"sub\")\n",
    "    print(\"multi\")\n",
    "    print(\"div\")\n",
    "    print(\"modulo\")\n",
    "    opt=input(\"Enter the selection\")\n",
    "    if opt=='add':\n",
    "        print(n1+n2)\n",
    "    elif opt=='sub':\n",
    "        print(n1-n2)\n",
    "    elif opt=='multi':\n",
    "        print(n1*n2)\n",
    "    elif opt=='div':\n",
    "        print(n1/n2)\n",
    "    elif opt=='modulo':\n",
    "        print(n1%n2)\n",
    "    elif opt=='stop':\n",
    "        print(\"Done\")\n",
    "        break\n",
    "    else:\n",
    "        print(\"Enter the valid option\")"
   ]
  },
  {
   "cell_type": "code",
   "execution_count": null,
   "id": "31b3fbbb-ac5b-4cbb-a5e1-5a3a6d27b6a4",
   "metadata": {},
   "outputs": [],
   "source": []
  }
 ],
 "metadata": {
  "kernelspec": {
   "display_name": "Python 3 (ipykernel)",
   "language": "python",
   "name": "python3"
  },
  "language_info": {
   "codemirror_mode": {
    "name": "ipython",
    "version": 3
   },
   "file_extension": ".py",
   "mimetype": "text/x-python",
   "name": "python",
   "nbconvert_exporter": "python",
   "pygments_lexer": "ipython3",
   "version": "3.12.3"
  }
 },
 "nbformat": 4,
 "nbformat_minor": 5
}
