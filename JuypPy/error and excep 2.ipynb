{
 "cells": [
  {
   "cell_type": "code",
   "execution_count": 4,
   "id": "c39e5ee0-d4d0-4e69-89c9-787280a522c7",
   "metadata": {},
   "outputs": [
    {
     "name": "stdin",
     "output_type": "stream",
     "text": [
      "enter the number 100\n",
      "enter the number 2\n"
     ]
    },
    {
     "name": "stdout",
     "output_type": "stream",
     "text": [
      "No exception\n",
      "Clean up the processes\n"
     ]
    }
   ],
   "source": [
    "try:\n",
    "    number1=int(input(\"enter the number\"))\n",
    "    number2=int(input(\"enter the number\"))\n",
    "    answer=number1/number2\n",
    "except ZeroDivisionError:\n",
    "    print(\"Check number 2 and give the correct value\")\n",
    "else: \n",
    "    print(\"No exception\")\n",
    "finally:\n",
    "    print(\"Clean up the processes\")\n"
   ]
  },
  {
   "cell_type": "code",
   "execution_count": 1,
   "id": "a5f62c12-0b03-439f-a02c-28b3801009a4",
   "metadata": {},
   "outputs": [
    {
     "name": "stdout",
     "output_type": "stream",
     "text": [
      "6\n"
     ]
    }
   ],
   "source": [
    "def outer():\n",
    "    x=3\n",
    "    def inner():\n",
    "        y=3\n",
    "        result=x+y\n",
    "        return result\n",
    "    return inner()\n",
    "name=outer()\n",
    "print(name)"
   ]
  },
  {
   "cell_type": "code",
   "execution_count": 4,
   "id": "7feaf115-aea1-4c24-8a02-4364df7608f4",
   "metadata": {},
   "outputs": [
    {
     "name": "stdout",
     "output_type": "stream",
     "text": [
      "refinement\n",
      "welcome\n"
     ]
    }
   ],
   "source": [
    "def fun1():\n",
    "    print(\"refinement\")\n",
    "def fun2(val):\n",
    "    val()\n",
    "    print(\"welcome\")\n",
    "fun2(fun1)"
   ]
  },
  {
   "cell_type": "code",
   "execution_count": 21,
   "id": "db3f4b3d-3271-49a6-b31c-87b3cba41fa0",
   "metadata": {},
   "outputs": [
    {
     "name": "stdout",
     "output_type": "stream",
     "text": [
      "good morning\n",
      "GOOD MORNING\n"
     ]
    }
   ],
   "source": [
    "def upper_str(func):\n",
    "    def inner():\n",
    "        str1=func\n",
    "        return str1.upper()\n",
    "    return inner\n",
    "def display_str():\n",
    "    return \"good morning\"\n",
    "print(display_str())\n",
    "d=upper_str(display_str())\n",
    "print(d())"
   ]
  },
  {
   "cell_type": "code",
   "execution_count": 17,
   "id": "f1ce7fff-228c-4835-95cc-e328591b0304",
   "metadata": {},
   "outputs": [
    {
     "ename": "TypeError",
     "evalue": "upper_str() takes 0 positional arguments but 1 was given",
     "output_type": "error",
     "traceback": [
      "\u001b[1;31m---------------------------------------------------------------------------\u001b[0m",
      "\u001b[1;31mTypeError\u001b[0m                                 Traceback (most recent call last)",
      "Cell \u001b[1;32mIn[17], line 13\u001b[0m\n\u001b[0;32m      9\u001b[0m         \u001b[38;5;28;01mreturn\u001b[39;00m str1\u001b[38;5;241m.\u001b[39msplit()\n\u001b[0;32m     10\u001b[0m     \u001b[38;5;28;01mreturn\u001b[39;00m inner\n\u001b[0;32m     12\u001b[0m \u001b[38;5;129;43m@split\u001b[39;49m\n\u001b[1;32m---> 13\u001b[0m \u001b[38;5;129;43m@upper_str\u001b[39;49m\n\u001b[0;32m     14\u001b[0m \n\u001b[0;32m     15\u001b[0m \u001b[38;5;28;43;01mdef\u001b[39;49;00m\u001b[43m \u001b[49m\u001b[38;5;21;43mprint_str\u001b[39;49m\u001b[43m(\u001b[49m\u001b[43m)\u001b[49m\u001b[43m:\u001b[49m\n\u001b[0;32m     16\u001b[0m \u001b[43m    \u001b[49m\u001b[38;5;28;43;01mreturn\u001b[39;49;00m\u001b[43m \u001b[49m\u001b[38;5;124;43m\"\u001b[39;49m\u001b[38;5;124;43mgood morning\u001b[39;49m\u001b[38;5;124;43m\"\u001b[39;49m\n\u001b[0;32m     17\u001b[0m print_str()\n",
      "\u001b[1;31mTypeError\u001b[0m: upper_str() takes 0 positional arguments but 1 was given"
     ]
    }
   ],
   "source": [
    "def upper_str():\n",
    "    def inner():\n",
    "        str1=func()\n",
    "        return str1.upper()\n",
    "    return inner\n",
    "def split(func):\n",
    "    def inner():\n",
    "        str1=func()\n",
    "        return str1.split()\n",
    "    return inner\n",
    "\n",
    "@split\n",
    "@upper_str\n",
    "\n",
    "def print_str():\n",
    "    return \"good morning\"\n",
    "print_str()\n",
    "        "
   ]
  },
  {
   "cell_type": "code",
   "execution_count": 19,
   "id": "21e62af1-c6b7-46ce-bf23-57ad87a9c2d6",
   "metadata": {},
   "outputs": [
    {
     "name": "stdout",
     "output_type": "stream",
     "text": [
      "1\n",
      "2\n",
      "3\n"
     ]
    }
   ],
   "source": [
    "a=[1,2,3,4,5]\n",
    "y=iter(a)\n",
    "print(next(y))\n",
    "print(next(y))\n",
    "try:\n",
    "    print(next(y))\n",
    "except StopIteration:\n",
    "    print(\"There is no more values for this iterator\")"
   ]
  },
  {
   "cell_type": "code",
   "execution_count": 38,
   "id": "bfbaa8e4-c82b-414e-9494-2da4c1224d4d",
   "metadata": {},
   "outputs": [
    {
     "name": "stdout",
     "output_type": "stream",
     "text": [
      "GOOD MORNING\n"
     ]
    }
   ],
   "source": [
    "def upper_str(func):\n",
    "    def inner():\n",
    "        str1=func()\n",
    "        return str1.upper()\n",
    "    return inner\n",
    "@upper_str\n",
    "def display_str():\n",
    "    return \"good morning\"\n",
    "print(display_str())"
   ]
  },
  {
   "cell_type": "code",
   "execution_count": null,
   "id": "eb0bab7d-dbc1-484c-8e28-03df2fe2a3c0",
   "metadata": {},
   "outputs": [],
   "source": []
  }
 ],
 "metadata": {
  "kernelspec": {
   "display_name": "Python 3 (ipykernel)",
   "language": "python",
   "name": "python3"
  },
  "language_info": {
   "codemirror_mode": {
    "name": "ipython",
    "version": 3
   },
   "file_extension": ".py",
   "mimetype": "text/x-python",
   "name": "python",
   "nbconvert_exporter": "python",
   "pygments_lexer": "ipython3",
   "version": "3.12.3"
  }
 },
 "nbformat": 4,
 "nbformat_minor": 5
}
