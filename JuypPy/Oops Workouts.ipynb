{
 "cells": [
  {
   "cell_type": "code",
   "execution_count": 1,
   "id": "aa17156d-fed7-46ff-8096-16207838e415",
   "metadata": {},
   "outputs": [
    {
     "name": "stdout",
     "output_type": "stream",
     "text": [
      "Ramesh\n"
     ]
    }
   ],
   "source": [
    "class goa:\n",
    "    name=\"Ramesh\"\n",
    "    drink=\"vodka\"\n",
    "    def party(self):\n",
    "        print(\"lets party\")\n",
    "    def beach(self):\n",
    "        print(\"enjoi beachhh\")\n",
    "\n",
    "ramesh=goa()\n",
    "suresh=goa()\n",
    "\n",
    "ramesh.name=\"Ramesh\"\n",
    "print(ramesh.name)"
   ]
  },
  {
   "cell_type": "code",
   "execution_count": 3,
   "id": "108230ff-db62-4ce7-b0a1-9c5c2a898e57",
   "metadata": {},
   "outputs": [
    {
     "name": "stdout",
     "output_type": "stream",
     "text": [
      "50000\n",
      "i7\n"
     ]
    }
   ],
   "source": [
    "class laptop:\n",
    "    price=\"\"\n",
    "    proc=\"\"\n",
    "    ram=\"\"\n",
    "\n",
    "hp=laptop()\n",
    "dell=laptop()\n",
    "\n",
    "hp.price=50000\n",
    "hp.prooc=\"i5\"\n",
    "hp.ram=\"8gb\"\n",
    "\n",
    "dell.price=60000\n",
    "dell.prooc=\"i7\"\n",
    "dell.ram=\"16gb0\"\n",
    "\n",
    "print(hp.price)\n",
    "print(dell.prooc)\n",
    "\n"
   ]
  },
  {
   "cell_type": "code",
   "execution_count": 5,
   "id": "9310ee0c-af5c-4b2e-8862-e6b886f0cf59",
   "metadata": {},
   "outputs": [
    {
     "ename": "TypeError",
     "evalue": "laptop.__init__() takes 0 positional arguments but 1 was given",
     "output_type": "error",
     "traceback": [
      "\u001b[1;31m---------------------------------------------------------------------------\u001b[0m",
      "\u001b[1;31mTypeError\u001b[0m                                 Traceback (most recent call last)",
      "Cell \u001b[1;32mIn[5], line 7\u001b[0m\n\u001b[0;32m      4\u001b[0m     \u001b[38;5;28;01mdef\u001b[39;00m \u001b[38;5;21mdisplay\u001b[39m(\u001b[38;5;28mself\u001b[39m):\n\u001b[0;32m      5\u001b[0m         \u001b[38;5;28mprint\u001b[39m(\u001b[38;5;124m\"\u001b[39m\u001b[38;5;124mdisplay\u001b[39m\u001b[38;5;124m\"\u001b[39m)\n\u001b[1;32m----> 7\u001b[0m hp\u001b[38;5;241m=\u001b[39m\u001b[43mlaptop\u001b[49m\u001b[43m(\u001b[49m\u001b[43m)\u001b[49m\n\u001b[0;32m      8\u001b[0m hp\u001b[38;5;241m.\u001b[39mdisplay()\n",
      "\u001b[1;31mTypeError\u001b[0m: laptop.__init__() takes 0 positional arguments but 1 was given"
     ]
    }
   ],
   "source": [
    "class laptop:\n",
    "    def __init__():\n",
    "        print(\"demo\")\n",
    "    def display(self):\n",
    "        print(\"display\")\n",
    "\n",
    "hp=laptop()\n",
    "hp.display()\n"
   ]
  },
  {
   "cell_type": "code",
   "execution_count": 6,
   "id": "a9426aed-590c-4528-b821-147227b58cd3",
   "metadata": {},
   "outputs": [],
   "source": [
    "exit"
   ]
  },
  {
   "cell_type": "code",
   "execution_count": null,
   "id": "4727e843-e0c3-4d13-b0c8-78c2e2acd66a",
   "metadata": {},
   "outputs": [],
   "source": [
    "exi"
   ]
  },
  {
   "cell_type": "code",
   "execution_count": 1,
   "id": "81d37bca-f741-4799-826b-becec18094d9",
   "metadata": {},
   "outputs": [
    {
     "name": "stdout",
     "output_type": "stream",
     "text": [
      "p\n",
      "r\n",
      "o\n",
      "g\n",
      "r\n",
      "a\n",
      "m\n",
      "m\n",
      "i\n",
      "n\n",
      "g\n"
     ]
    }
   ],
   "source": [
    "for i in \"programming\":\n",
    "    print(i)"
   ]
  },
  {
   "cell_type": "raw",
   "id": "9105059c-fc19-435c-ab4e-e1debda7f1f5",
   "metadata": {},
   "source": [
    "for i in range(10):\n",
    "print(i)"
   ]
  },
  {
   "cell_type": "code",
   "execution_count": 3,
   "id": "b99d1feb-eb7e-445f-8568-f9d40faa5ca4",
   "metadata": {},
   "outputs": [
    {
     "name": "stdout",
     "output_type": "stream",
     "text": [
      "1\n",
      "3\n",
      "5\n",
      "7\n",
      "9\n",
      "completed\n"
     ]
    }
   ],
   "source": [
    "for i in range(1,10,2):\n",
    "    print(i)\n",
    "print(\"completed\")"
   ]
  },
  {
   "cell_type": "code",
   "execution_count": 7,
   "id": "67bf51d5-ccc6-4cbc-bd4b-f18337c9053e",
   "metadata": {},
   "outputs": [
    {
     "name": "stdout",
     "output_type": "stream",
     "text": [
      "balaji\n",
      "vishnu\n",
      "sachin\n",
      "reethan\n"
     ]
    }
   ],
   "source": [
    "x=[\"balaji\",\"vishnu\",\"sachin\",\"reethan\"]\n",
    "for i in x:\n",
    "    print(i)"
   ]
  },
  {
   "cell_type": "code",
   "execution_count": 9,
   "id": "604957e6-2e18-467f-b2c4-d7544bf06eb1",
   "metadata": {},
   "outputs": [
    {
     "name": "stdout",
     "output_type": "stream",
     "text": [
      "1\n",
      "3\n",
      "5\n",
      "7\n",
      "9\n",
      "completed\n"
     ]
    }
   ],
   "source": [
    "\n",
    "for i in range(1,10,2):\n",
    "    print(i)\n",
    "else:\n",
    "    print(\"completed\")"
   ]
  },
  {
   "cell_type": "code",
   "execution_count": 11,
   "id": "c73dc61b-d923-47f3-86de-c5a78b9bcbdd",
   "metadata": {},
   "outputs": [
    {
     "name": "stdout",
     "output_type": "stream",
     "text": [
      "0\n",
      "1\n",
      "2\n",
      "3\n",
      "4\n"
     ]
    }
   ],
   "source": [
    "for x in range(10):\n",
    "    if x==5:\n",
    "        break\n",
    "    print(x)\n",
    "else:\n",
    "    print(\"completed\")"
   ]
  },
  {
   "cell_type": "code",
   "execution_count": 12,
   "id": "818f5ad6-c472-45bf-904f-a129226b666e",
   "metadata": {},
   "outputs": [
    {
     "name": "stdout",
     "output_type": "stream",
     "text": [
      "completed\n"
     ]
    }
   ],
   "source": [
    "for i in range(10):\n",
    "    if x==5:\n",
    "        continue\n",
    "    print(x)\n",
    "else:\n",
    "    print(\"completed\")"
   ]
  },
  {
   "cell_type": "code",
   "execution_count": 16,
   "id": "606ca330-1738-4640-9086-e8974508a31e",
   "metadata": {},
   "outputs": [
    {
     "name": "stdout",
     "output_type": "stream",
     "text": [
      "apple red\n",
      "apple blue\n",
      "apple green\n",
      "bannana red\n",
      "bannana blue\n",
      "bannana green\n",
      "cherry red\n",
      "cherry blue\n",
      "cherry green\n",
      "orange red\n",
      "orange blue\n",
      "orange green\n"
     ]
    }
   ],
   "source": [
    "fruits=[\"apple\",\"bannana\",\"cherry\",\"orange\"]\n",
    "clolur=[\"red\",\"blue\",\"green\"]\n",
    "for i in fruits:\n",
    "    for y in clolur:\n",
    "        print(i,y)"
   ]
  },
  {
   "cell_type": "code",
   "execution_count": null,
   "id": "e8678ab5-0d25-4191-9a26-207c7402c302",
   "metadata": {},
   "outputs": [],
   "source": []
  },
  {
   "cell_type": "code",
   "execution_count": null,
   "id": "23281092-17d2-4558-801a-b93dd694c614",
   "metadata": {},
   "outputs": [],
   "source": []
  },
  {
   "cell_type": "code",
   "execution_count": null,
   "id": "f34e1c4c-b689-40df-a1a4-dac5f23a2e8b",
   "metadata": {},
   "outputs": [],
   "source": []
  }
 ],
 "metadata": {
  "kernelspec": {
   "display_name": "Python 3 (ipykernel)",
   "language": "python",
   "name": "python3"
  },
  "language_info": {
   "codemirror_mode": {
    "name": "ipython",
    "version": 3
   },
   "file_extension": ".py",
   "mimetype": "text/x-python",
   "name": "python",
   "nbconvert_exporter": "python",
   "pygments_lexer": "ipython3",
   "version": "3.12.2"
  }
 },
 "nbformat": 4,
 "nbformat_minor": 5
}
