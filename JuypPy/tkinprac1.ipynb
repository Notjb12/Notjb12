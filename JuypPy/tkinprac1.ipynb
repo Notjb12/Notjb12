{
 "cells": [
  {
   "cell_type": "code",
   "execution_count": 4,
   "id": "92730603-25e0-41ec-89c1-c7ce794ac011",
   "metadata": {},
   "outputs": [],
   "source": [
    "from tkinter import *\n",
    "from tkinter.font import Font\n",
    "from tkinter import messagebox\n",
    "def click1():\n",
    "    messagebox.showinfo(\"Info box\",\"button was done\")\n",
    "def click2():\n",
    "    messagebox.showerror(\"Info box\",\"Button was made with an error\")\n",
    "def click3():\n",
    "    messagebox.showwarning(\"Info box\",\"Button was made with an error\")\n",
    "def click4():\n",
    "    messagebox.askquestion(\"Info box\",\"Button was made with an error\")\n",
    "def click5():\n",
    "    messagebox.askretrycancel(\"Info box\",\"Button was made with an error\")\n",
    "def click6():\n",
    "    messagebox.askokcancel(\"Info box\",\"Button was made with an error\")\n",
    "window=Tk()\n",
    "window.geometry(\"500x500\")\n",
    "btn1=Button(window,text=\"Submit\",bg=\"green\",fg=\"white\",command=click1)\n",
    "btn1.pack()\n",
    "btn2=Button(window,text=\"Submit\",bg=\"black\",fg=\"blue\",command=click2)\n",
    "btn2.pack()\n",
    "btn3=Button(window,text=\"Submit\",bg=\"black\",fg=\"blue\",command=click3)\n",
    "btn3.pack()\n",
    "btn4=Button(window,text=\"Submit\",bg=\"black\",fg=\"blue\",command=click4)\n",
    "btn4.pack()\n",
    "btn5=Button(window,text=\"Submit\",bg=\"black\",fg=\"blue\",command=click5)\n",
    "btn5.pack()\n",
    "btn6=Button(window,text=\"Submit\",bg=\"black\",fg=\"blue\",command=click6)\n",
    "btn6.pack()\n",
    "window.mainloop()"
   ]
  },
  {
   "cell_type": "code",
   "execution_count": 22,
   "id": "da6d739e-dd46-4947-859b-72112ab5d30d",
   "metadata": {},
   "outputs": [],
   "source": [
    "from tkinter import *\n",
    "from tkinter import messagebox\n",
    "part=Tk()\n",
    "part.geometry(\"500x500\")\n",
    "def click36():\n",
    "    labbb=Label(part, text=\"Button was made with an error\")\n",
    "    labbb.pack()\n",
    "btn12=Button(part,text=\"Click\",bg=\"black\",fg=\"blue\", command=click36)\n",
    "btn12.pack()\n",
    "part.mainloop()"
   ]
  },
  {
   "cell_type": "code",
   "execution_count": 23,
   "id": "99834490-6664-4b5e-a75a-4172c1f6cd91",
   "metadata": {},
   "outputs": [
    {
     "ename": "ImportError",
     "evalue": "cannot import name 'radiobutton' from 'tkinter' (C:\\Users\\ItsEJaivishnu\\AppData\\Local\\Programs\\Python\\Python312\\Lib\\tkinter\\__init__.py)",
     "output_type": "error",
     "traceback": [
      "\u001b[1;31m---------------------------------------------------------------------------\u001b[0m",
      "\u001b[1;31mImportError\u001b[0m                               Traceback (most recent call last)",
      "Cell \u001b[1;32mIn[23], line 2\u001b[0m\n\u001b[0;32m      1\u001b[0m \u001b[38;5;28;01mfrom\u001b[39;00m \u001b[38;5;21;01mtkinter\u001b[39;00m \u001b[38;5;28;01mimport\u001b[39;00m \u001b[38;5;241m*\u001b[39m\n\u001b[1;32m----> 2\u001b[0m \u001b[38;5;28;01mfrom\u001b[39;00m \u001b[38;5;21;01mtkinter\u001b[39;00m \u001b[38;5;28;01mimport\u001b[39;00m radiobutton\n\u001b[0;32m      3\u001b[0m tuf\u001b[38;5;241m=\u001b[39mTk()\n\u001b[0;32m      4\u001b[0m tuf\u001b[38;5;241m.\u001b[39mgeometry(\u001b[38;5;124m\"\u001b[39m\u001b[38;5;124m500x500\u001b[39m\u001b[38;5;124m\"\u001b[39m)\n",
      "\u001b[1;31mImportError\u001b[0m: cannot import name 'radiobutton' from 'tkinter' (C:\\Users\\ItsEJaivishnu\\AppData\\Local\\Programs\\Python\\Python312\\Lib\\tkinter\\__init__.py)"
     ]
    }
   ],
   "source": [
    "from tkinter import *\n",
    "from tkinter import radiobutton\n",
    "tuf=Tk()\n",
    "tuf.geometry(\"500x500\")\n",
    "hel=Radiobutton()\n",
    "hel.pack()\n",
    "tuf.mainloop()"
   ]
  },
  {
   "cell_type": "code",
   "execution_count": null,
   "id": "a44837e7-272f-4a9b-9afd-0ddbca9c06d2",
   "metadata": {},
   "outputs": [],
   "source": []
  }
 ],
 "metadata": {
  "kernelspec": {
   "display_name": "Python 3 (ipykernel)",
   "language": "python",
   "name": "python3"
  },
  "language_info": {
   "codemirror_mode": {
    "name": "ipython",
    "version": 3
   },
   "file_extension": ".py",
   "mimetype": "text/x-python",
   "name": "python",
   "nbconvert_exporter": "python",
   "pygments_lexer": "ipython3",
   "version": "3.12.3"
  }
 },
 "nbformat": 4,
 "nbformat_minor": 5
}
