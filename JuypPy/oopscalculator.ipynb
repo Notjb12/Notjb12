{
 "cells": [
  {
   "cell_type": "code",
   "execution_count": 1,
   "id": "ea12d7bf-40c0-44cc-8992-253d28b03a3c",
   "metadata": {},
   "outputs": [
    {
     "ename": "TypeError",
     "evalue": "input() takes no arguments",
     "output_type": "error",
     "traceback": [
      "\u001b[1;31m---------------------------------------------------------------------------\u001b[0m",
      "\u001b[1;31mTypeError\u001b[0m                                 Traceback (most recent call last)",
      "Cell \u001b[1;32mIn[1], line 18\u001b[0m\n\u001b[0;32m     16\u001b[0m         \u001b[38;5;28;01mreturn\u001b[39;00m \u001b[38;5;28mself\u001b[39m\u001b[38;5;241m.\u001b[39mone\u001b[38;5;241m%\u001b[39m\u001b[38;5;28mself\u001b[39m\u001b[38;5;241m.\u001b[39mtwo\n\u001b[0;32m     17\u001b[0m obj\u001b[38;5;241m=\u001b[39mmain()\n\u001b[1;32m---> 18\u001b[0m \u001b[43mobj\u001b[49m\u001b[38;5;241;43m.\u001b[39;49m\u001b[43mgot\u001b[49m\u001b[43m(\u001b[49m\u001b[43m)\u001b[49m\n\u001b[0;32m     19\u001b[0m obj\u001b[38;5;241m.\u001b[39madd()\n\u001b[0;32m     20\u001b[0m obj\u001b[38;5;241m.\u001b[39msub()\n",
      "Cell \u001b[1;32mIn[1], line 3\u001b[0m, in \u001b[0;36minput.got\u001b[1;34m(self)\u001b[0m\n\u001b[0;32m      2\u001b[0m \u001b[38;5;28;01mdef\u001b[39;00m \u001b[38;5;21mgot\u001b[39m(\u001b[38;5;28mself\u001b[39m):\n\u001b[1;32m----> 3\u001b[0m     \u001b[38;5;28mself\u001b[39m\u001b[38;5;241m.\u001b[39mone\u001b[38;5;241m=\u001b[39m\u001b[38;5;28mint\u001b[39m(\u001b[38;5;28;43minput\u001b[39;49m\u001b[43m(\u001b[49m\u001b[38;5;124;43m\"\u001b[39;49m\u001b[38;5;124;43mEnter the 1st number\u001b[39;49m\u001b[38;5;124;43m\"\u001b[39;49m\u001b[43m)\u001b[49m)\n\u001b[0;32m      4\u001b[0m     \u001b[38;5;28mself\u001b[39m\u001b[38;5;241m.\u001b[39mtwo\u001b[38;5;241m=\u001b[39m\u001b[38;5;28mint\u001b[39m(\u001b[38;5;28minput\u001b[39m(\u001b[38;5;124m\"\u001b[39m\u001b[38;5;124mEnter the 2nd number\u001b[39m\u001b[38;5;124m\"\u001b[39m))\n",
      "\u001b[1;31mTypeError\u001b[0m: input() takes no arguments"
     ]
    }
   ],
   "source": [
    "class input:\n",
    "    def got(self):\n",
    "        self.one=int(input(\"Enter the 1st number\"))\n",
    "        self.two=int(input(\"Enter the 2nd number\"))\n",
    "class main(input):\n",
    "    def add(self):\n",
    "        return self.one+self.two\n",
    "    def sub(self):\n",
    "        return self.one-self.two\n",
    "    def mul(self):\n",
    "        return self.one*self.two\n",
    "class submain(main):\n",
    "    def div(self):\n",
    "        return self.one/self.two\n",
    "    def mod(self):\n",
    "        return self.one%self.two\n",
    "obj=main()\n",
    "obj.got()\n",
    "obj.add()\n",
    "obj.sub()\n",
    "obj.mul()\n",
    "obj.div()"
   ]
  },
  {
   "cell_type": "code",
   "execution_count": 3,
   "id": "e025f798-6c02-4ce9-aec1-b124189ff6e1",
   "metadata": {},
   "outputs": [
    {
     "ename": "TypeError",
     "evalue": "input() takes no arguments",
     "output_type": "error",
     "traceback": [
      "\u001b[1;31m---------------------------------------------------------------------------\u001b[0m",
      "\u001b[1;31mTypeError\u001b[0m                                 Traceback (most recent call last)",
      "Cell \u001b[1;32mIn[3], line 21\u001b[0m\n\u001b[0;32m     19\u001b[0m         \u001b[38;5;28;01mreturn\u001b[39;00m \u001b[38;5;28mself\u001b[39m\u001b[38;5;241m.\u001b[39mlion\u001b[38;5;241m%\u001b[39m\u001b[38;5;28mself\u001b[39m\u001b[38;5;241m.\u001b[39mtiger\n\u001b[0;32m     20\u001b[0m obj\u001b[38;5;241m=\u001b[39mmod()\n\u001b[1;32m---> 21\u001b[0m \u001b[43mobj\u001b[49m\u001b[38;5;241;43m.\u001b[39;49m\u001b[43mmyfun\u001b[49m\u001b[43m(\u001b[49m\u001b[43m)\u001b[49m\n\u001b[0;32m     22\u001b[0m obj\u001b[38;5;241m.\u001b[39maddition()\n\u001b[0;32m     23\u001b[0m obj\u001b[38;5;241m.\u001b[39msubtraction()\n",
      "Cell \u001b[1;32mIn[3], line 3\u001b[0m, in \u001b[0;36minput.myfun\u001b[1;34m(self)\u001b[0m\n\u001b[0;32m      2\u001b[0m \u001b[38;5;28;01mdef\u001b[39;00m \u001b[38;5;21mmyfun\u001b[39m(\u001b[38;5;28mself\u001b[39m):\n\u001b[1;32m----> 3\u001b[0m     \u001b[38;5;28mself\u001b[39m\u001b[38;5;241m.\u001b[39mlion\u001b[38;5;241m=\u001b[39m\u001b[38;5;28;43minput\u001b[39;49m\u001b[43m(\u001b[49m\u001b[38;5;124;43m\"\u001b[39;49m\u001b[38;5;124;43mEnter the number\u001b[39;49m\u001b[38;5;124;43m\"\u001b[39;49m\u001b[43m)\u001b[49m\n\u001b[0;32m      4\u001b[0m     \u001b[38;5;28mself\u001b[39m\u001b[38;5;241m.\u001b[39mtiger\u001b[38;5;241m=\u001b[39m\u001b[38;5;28minput\u001b[39m(\u001b[38;5;124m\"\u001b[39m\u001b[38;5;124mEnter the number\u001b[39m\u001b[38;5;124m\"\u001b[39m)\n",
      "\u001b[1;31mTypeError\u001b[0m: input() takes no arguments"
     ]
    }
   ],
   "source": [
    "class input:\n",
    "    def myfun(self):\n",
    "        self.lion=input(\"Enter the number\")\n",
    "        self.tiger=input(\"Enter the number\")\n",
    "class add(input):\n",
    "    def addition(self):\n",
    "        return self.lion+self.tiger\n",
    "class sub(add):\n",
    "    def subtraction(self):\n",
    "        return self.lion-self.tiger\n",
    "class multi(sub):\n",
    "    def multiply(self):\n",
    "        return self.lion*self.tiger\n",
    "class div(multi):\n",
    "    def division(self):\n",
    "        return self.lion/self.tiger\n",
    "class mod(div):\n",
    "    def modulus(self):\n",
    "        return self.lion%self.tiger\n",
    "obj=mod()\n",
    "obj.myfun()\n",
    "obj.addition()\n",
    "obj.subtraction()\n",
    "obj.multiply()\n",
    "obj.division()\n",
    "obj.modulus()"
   ]
  },
  {
   "cell_type": "code",
   "execution_count": 4,
   "id": "7bc4eac0-3b9d-4595-9101-f40213c8fdc2",
   "metadata": {},
   "outputs": [
    {
     "ename": "TypeError",
     "evalue": "input() takes no arguments",
     "output_type": "error",
     "traceback": [
      "\u001b[1;31m---------------------------------------------------------------------------\u001b[0m",
      "\u001b[1;31mTypeError\u001b[0m                                 Traceback (most recent call last)",
      "Cell \u001b[1;32mIn[4], line 2\u001b[0m\n\u001b[0;32m      1\u001b[0m \u001b[38;5;28;01mwhile\u001b[39;00m \u001b[38;5;28;01mTrue\u001b[39;00m:\n\u001b[1;32m----> 2\u001b[0m     n1\u001b[38;5;241m=\u001b[39m\u001b[38;5;28mint\u001b[39m(\u001b[38;5;28;43minput\u001b[39;49m\u001b[43m(\u001b[49m\u001b[38;5;124;43m\"\u001b[39;49m\u001b[38;5;124;43mEnter the 1st number\u001b[39;49m\u001b[38;5;124;43m\"\u001b[39;49m\u001b[43m)\u001b[49m)\n\u001b[0;32m      3\u001b[0m     n2\u001b[38;5;241m=\u001b[39m\u001b[38;5;28mint\u001b[39m(inpit(\u001b[38;5;124m\"\u001b[39m\u001b[38;5;124mEnter the 2nd number\u001b[39m\u001b[38;5;124m\"\u001b[39m))\n\u001b[0;32m      4\u001b[0m     opt\u001b[38;5;241m=\u001b[39m\u001b[38;5;28minput\u001b[39m(\u001b[38;5;124m\"\u001b[39m\u001b[38;5;124mEnter the selection\u001b[39m\u001b[38;5;124m\"\u001b[39m)\n",
      "\u001b[1;31mTypeError\u001b[0m: input() takes no arguments"
     ]
    }
   ],
   "source": [
    "while True:\n",
    "    n1=int(input(\"Enter the 1st number\"))\n",
    "    n2=int(inpit(\"Enter the 2nd number\"))\n",
    "    opt=input(\"Enter the selection\")\n",
    "    print(\"\\add\")\n",
    "    print(\"sub\")\n",
    "    print(\"multi\")\n",
    "    print(\"div\")\n",
    "    print(\"modulo\")\n",
    "    if opt=='add':\n",
    "        print(n1+n2)\n",
    "    elif opt=='sub':\n",
    "        print(n1-n2)\n",
    "    elif opt=='multi':\n",
    "        print(n1*n2)\n",
    "    elif opt=='div':\n",
    "        print(n1/n2)\n",
    "    elif opt=='modulo':\n",
    "        print(n1%n2)\n",
    "    else:\n",
    "        print(\"Enter the valid option\")"
   ]
  },
  {
   "cell_type": "code",
   "execution_count": null,
   "id": "46e6dfd0-3d0c-41d1-b2cb-01c74f6d17d1",
   "metadata": {},
   "outputs": [],
   "source": [
    "class Calculator:\n",
    "    def __init__(self):\n",
    "        self.num1 = 0\n",
    "        self.num2 = 0\n",
    "\n",
    "    def get_input(self):\n",
    "        self.num1 = float(input(\"Enter the first number: \"))\n",
    "        self.num2 = float(input(\"Enter the second number: \"))\n",
    "\n",
    "    def add(self):\n",
    "        return self.num1 + self.num2\n",
    "\n",
    "    def subtract(self):\n",
    "        return self.num1 - self.num2\n",
    "\n",
    "    def multiply(self):\n",
    "        return self.num1 * self.num2\n",
    "\n",
    "    def divide(self):\n",
    "        if self.num2 != 0:\n",
    "            return self.num1 / self.num2\n",
    "        else:\n",
    "            return \"Division by zero is not allowed\"\n",
    "\n",
    "    def display_results(self):\n",
    "        print(f\"Addition: {self.add()}\")\n",
    "        print(f\"Subtraction: {self.subtract()}\")\n",
    "        print(f\"Multiplication: {self.multiply()}\")\n",
    "        print(f\"Division: {self.divide()}\")\n",
    "\n",
    "\n",
    "# Create an instance of the Calculator class\n",
    "calc = Calculator()\n",
    "\n",
    "# Get user input\n",
    "calc.get_input()\n",
    "\n",
    "# Display the results of the arithmetic operations\n",
    "calc.display_results()\n"
   ]
  }
 ],
 "metadata": {
  "kernelspec": {
   "display_name": "Python 3 (ipykernel)",
   "language": "python",
   "name": "python3"
  },
  "language_info": {
   "codemirror_mode": {
    "name": "ipython",
    "version": 3
   },
   "file_extension": ".py",
   "mimetype": "text/x-python",
   "name": "python",
   "nbconvert_exporter": "python",
   "pygments_lexer": "ipython3",
   "version": "3.12.3"
  }
 },
 "nbformat": 4,
 "nbformat_minor": 5
}
