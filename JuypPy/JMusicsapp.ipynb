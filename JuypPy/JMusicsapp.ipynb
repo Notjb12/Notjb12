{
 "cells": [
  {
   "cell_type": "code",
   "execution_count": 1,
   "id": "eb6035eb-197f-4d8a-96b0-4cc8327379cc",
   "metadata": {},
   "outputs": [
    {
     "name": "stdout",
     "output_type": "stream",
     "text": [
      "JMusics\n",
      "\n",
      "Welcome To JMusic\n",
      "\n",
      "Please Enter your Username And Password...\n",
      "To Get Interacted With the songs!....\n"
     ]
    },
    {
     "name": "stdin",
     "output_type": "stream",
     "text": [
      "Are you a new User?? Y/N Y\n"
     ]
    },
    {
     "name": "stdout",
     "output_type": "stream",
     "text": [
      "Click Sign up to create A new Account!!.....\n",
      "\n",
      "\n"
     ]
    },
    {
     "name": "stdin",
     "output_type": "stream",
     "text": [
      "Enter your New Username:- new\n",
      "\n",
      "Enter your New Password password\n"
     ]
    },
    {
     "name": "stdout",
     "output_type": "stream",
     "text": [
      "Valid Password!\n"
     ]
    },
    {
     "name": "stdin",
     "output_type": "stream",
     "text": [
      "\n",
      "Enter your mail address new@gmail.com\n",
      "Enter your Date Of Birth 09099002\n"
     ]
    },
    {
     "name": "stdout",
     "output_type": "stream",
     "text": [
      "\n",
      "Your account is created....!\n",
      "Login With your account! :)\n",
      "\n",
      "\n"
     ]
    },
    {
     "name": "stdin",
     "output_type": "stream",
     "text": [
      "Enter your Username:- new\n",
      "Enter your Password:- password\n"
     ]
    },
    {
     "name": "stdout",
     "output_type": "stream",
     "text": [
      "Valid Password!\n",
      "Select The Artist!...\n",
      "\n",
      "1. Anirudh\n",
      "2. Sid Sreeram\n",
      "3. AR Rahaman\n",
      "4. SPB\n",
      "5. Imagine Dragons\n",
      "6. MJ\n",
      "7. Taylor Swift\n"
     ]
    },
    {
     "name": "stdin",
     "output_type": "stream",
     "text": [
      "Select The Artist MJ\n"
     ]
    },
    {
     "name": "stdout",
     "output_type": "stream",
     "text": [
      "Please Select the songs of the selected Artist\n"
     ]
    }
   ],
   "source": [
    "print(\"JMusics\")\n",
    "print(\"\\nWelcome To JMusic\")\n",
    "print(\"\\nPlease Enter your Username And Password...\")\n",
    "print(\"To Get Interacted With the songs!....\")\n",
    "\n",
    "while True:\n",
    "    n=input(\"Are you a new User?? Y/N\")\n",
    "    if n == 'Y':\n",
    "        print(\"Click Sign up to create A new Account!!.....\")\n",
    "        print(\"\\n\")\n",
    "        name=input(\"Enter your New Username:-\")\n",
    "        \n",
    "        while True:\n",
    "            password=input(\"\\nEnter your New Password\")\n",
    "            if len(password) < 8:\n",
    "                print(\"\\nThe Password Should inclue 8 Letters\")\n",
    "                print(\"Invalid Password\")\n",
    "            elif len(password)==8:\n",
    "                print(\"Valid Password!\")\n",
    "                break\n",
    "            else:\n",
    "                print(\"You Password should be correctly in 8 Letters.....\")\n",
    "        \n",
    "        mail=input(\"\\nEnter your mail address\")\n",
    "        dob=input(\"Enter your Date Of Birth\")\n",
    "        break\n",
    "    \n",
    "    elif n == 'N':\n",
    "        print(\"\\nContinue With Login Page :)....\")\n",
    "        break\n",
    "    else:\n",
    "        print(\"Enter a Valid Option Y/N\")\n",
    "\n",
    "\n",
    "print(\"\\nYour account is created....!\")\n",
    "print(\"Login With your account! :)\")\n",
    "print(\"\\n\")\n",
    "\n",
    "while True:\n",
    "    U=input(\"Enter your Username:-\")\n",
    "    \n",
    "    while True:\n",
    "        P=input(\"Enter your Password:-\")\n",
    "        if len(P) < 8:\n",
    "            print(\"\\nThe Password Should inclue 8 Letters\")\n",
    "            print(\"Invalid Password\")\n",
    "        elif len(P)==8:\n",
    "            print(\"Valid Password!\")\n",
    "            break\n",
    "        else:\n",
    "            print(\"You Password should be correctly in 8 Letters.....\")\n",
    "    \n",
    "    \n",
    "# while True:\n",
    "    print(\"Select The Artist!...\")\n",
    "    print(\"\\n1. Anirudh\")\n",
    "    print(\"2. Sid Sreeram\")\n",
    "    print(\"3. AR Rahaman\")\n",
    "    print(\"4. SPB\")\n",
    "    print(\"5. Imagine Dragons\")\n",
    "    print(\"6. MJ\")\n",
    "    print(\"7. Taylor Swift\")\n",
    "    art=input(\"Select The Artist\")\n",
    "\n",
    "    if art=='Anirudh':\n",
    "        print(\"Please Select the songs of the selected Artist\")\n",
    "        break\n",
    "    elif art=='Sid Sreeram':\n",
    "        print(\"Please Select the songs of the selected Artist\")\n",
    "        break\n",
    "    elif art=='AR Rahaman':\n",
    "        print(\"Please Select the songs of the selected Artist\")\n",
    "    elif art=='SPB':\n",
    "        print(\"Please Select the songs of the selected Artist\")\n",
    "        break\n",
    "    elif art=='Imagine Dragons':\n",
    "        print(\"Please Select the songs of the selected Artist\")\n",
    "        break\n",
    "    elif art=='MJ':\n",
    "        print(\"Please Select the songs of the selected Artist\")\n",
    "        break\n",
    "    elif art=='Taylor Swift':\n",
    "        print(\"Please Select the songs of the selected Artist\")\n",
    "        break\n",
    "    else:\n",
    "        print(\"There is no such artist\")\n",
    "        break\n",
    "\n"
   ]
  },
  {
   "cell_type": "code",
   "execution_count": null,
   "id": "d2772505-5463-46a2-b250-23f79c7115b3",
   "metadata": {},
   "outputs": [],
   "source": []
  }
 ],
 "metadata": {
  "kernelspec": {
   "display_name": "Python 3 (ipykernel)",
   "language": "python",
   "name": "python3"
  },
  "language_info": {
   "codemirror_mode": {
    "name": "ipython",
    "version": 3
   },
   "file_extension": ".py",
   "mimetype": "text/x-python",
   "name": "python",
   "nbconvert_exporter": "python",
   "pygments_lexer": "ipython3",
   "version": "3.12.3"
  }
 },
 "nbformat": 4,
 "nbformat_minor": 5
}
