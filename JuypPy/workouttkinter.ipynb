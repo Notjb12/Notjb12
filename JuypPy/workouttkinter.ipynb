{
 "cells": [
  {
   "cell_type": "code",
   "execution_count": 14,
   "id": "3c64dc0b-b22e-491a-a6d0-ae95805e5283",
   "metadata": {},
   "outputs": [],
   "source": [
    "from tkinter import *\n",
    "from tkinter import messagebox\n",
    "from tkinter.font import Font\n",
    "win=Tk()\n",
    "myfont=Font(family=\"times\",size=15,weight=\"bold\")\n",
    "win.title(\"Booktickets.com\")\n",
    "\n",
    "def myfun():\n",
    "    # sys=10*10\n",
    "    \n",
    "    sys=int(hel.get())\n",
    "    data2=int(hel1.get())\n",
    "    summ=sys*1800+data2*800\n",
    "    messagebox.showinfo(\"Infobox\", summ)\n",
    "    \n",
    "    # labeee=Label(win, sum)\n",
    "    # labeee.pack()\n",
    "    \n",
    "    # messagebox.showinfo(\"infobox\", text=data*1800 + data2*800)\n",
    "    # messagebox.showinfo(text=\"return data*1800+data2*800\")\n",
    "\n",
    "lbl1=Label(text=\"Railway Tickets Booking Center!....\", font=myfont)\n",
    "lbl1.pack()\n",
    "\n",
    "lbll1=Label(text=\"For Adults Per Head Rs 1800/-\", font=myfont)\n",
    "lbll1.pack()\n",
    "\n",
    "lbl2=Label(text=\"Enter Number of Adults\", font=myfont)\n",
    "lbl2.pack()\n",
    "\n",
    "options=IntVar()\n",
    "hel=Entry(font=myfont)\n",
    "hel.pack()\n",
    "\n",
    "lbll1=Label(text=\"For Childrens Per Head Rs 800/-\", font=myfont)\n",
    "lbll1.pack()\n",
    "\n",
    "lbl2=Label(text=\"Enter Number of Childrens\", font=myfont)\n",
    "lbl2.pack()\n",
    "\n",
    "option=IntVar()\n",
    "hel1=Entry(font=myfont)\n",
    "hel1.pack()\n",
    "\n",
    "bt=Button(win, text=\"Submit\", padx=2, pady=2, font=myfont, command=myfun)\n",
    "bt.pack()\n",
    "\n",
    "lbl45=Label(text=\"For More Informations call us: 9489480221\", font=myfont)\n",
    "lbl45.pack()\n",
    "\n",
    "lbl44=Label(text=\"Cancelation of ticket is not done.\", font=myfont)\n",
    "lbl44.pack()\n",
    "\n",
    "lbltt=Label(text=\"Money is not refundable!.......\", font=myfont)\n",
    "lbltt.pack()\n",
    "\n",
    "\n",
    "win.geometry(\"500x400\")\n",
    "win.mainloop()"
   ]
  },
  {
   "cell_type": "code",
   "execution_count": null,
   "id": "c01cb36d-ddb3-4c95-b61c-725298ed1dc8",
   "metadata": {},
   "outputs": [],
   "source": [
    "TKINTER"
   ]
  },
  {
   "cell_type": "code",
   "execution_count": 8,
   "id": "a4da4811-7d88-4f43-876c-1e342e28a922",
   "metadata": {},
   "outputs": [],
   "source": [
    "from tkinter import *\n",
    "from tkinter.font import Font\n",
    "carl=Tk()\n",
    "carl.title(\"Calculator!...\")\n",
    "carl.geometry(\"500x500\")\n",
    "\n",
    "big=Entry()\n",
    "big.pack()\n",
    "big1=Entry()\n",
    "big1.pack()\n",
    "\n",
    "smoke=Button(text='+')\n",
    "smoke.pack()\n",
    "smoke1=Button(text='-')\n",
    "smoke1.pack()\n",
    "smoke2=Button(text='*')\n",
    "smoke2.pack()\n",
    "smoke3=Button(text='/')\n",
    "smoke3.pack()\n",
    "smoke4=Button(text='%')\n",
    "smoke4.pack()\n",
    "carl.mainloop()"
   ]
  },
  {
   "cell_type": "code",
   "execution_count": null,
   "id": "e49e3f2f-d4db-4528-abb9-7c54118d30e1",
   "metadata": {},
   "outputs": [],
   "source": [
    "from tkinter import *\n",
    "from tkinter import messagebox\n",
    "tamil=Tk()\n",
    "tamil.geometry(500x500)"
   ]
  }
 ],
 "metadata": {
  "kernelspec": {
   "display_name": "Python 3 (ipykernel)",
   "language": "python",
   "name": "python3"
  },
  "language_info": {
   "codemirror_mode": {
    "name": "ipython",
    "version": 3
   },
   "file_extension": ".py",
   "mimetype": "text/x-python",
   "name": "python",
   "nbconvert_exporter": "python",
   "pygments_lexer": "ipython3",
   "version": "3.12.3"
  }
 },
 "nbformat": 4,
 "nbformat_minor": 5
}
