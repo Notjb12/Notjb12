{
 "cells": [
  {
   "cell_type": "code",
   "execution_count": null,
   "id": "ae3bd26a-8ea9-43fc-a716-e7a560e77747",
   "metadata": {},
   "outputs": [],
   "source": [
    "#Creating the slide or a power point document of the file"
   ]
  },
  {
   "cell_type": "code",
   "execution_count": 16,
   "id": "f10ff065-623b-4f4e-a218-6b7738e5dfc6",
   "metadata": {},
   "outputs": [
    {
     "name": "stdout",
     "output_type": "stream",
     "text": [
      "done\n"
     ]
    }
   ],
   "source": [
    "# import Presentation class \n",
    "# from pptx library \n",
    "from pptx import Presentation      \n",
    "  \n",
    "# Creating presentation object \n",
    "root = Presentation() \n",
    "  \n",
    "# Creating slide layout \n",
    "first_slide_layout = root.slide_layouts[0]  \n",
    "  \n",
    "\"\"\" Ref for slide types:  \n",
    "0 ->  title and subtitle \n",
    "1 ->  title and content \n",
    "2 ->  section header \n",
    "3 ->  two content \n",
    "4 ->  Comparison \n",
    "5 ->  Title only  \n",
    "6 ->  Blank \n",
    "7 ->  Content with caption \n",
    "8 ->  Pic with caption \n",
    "\"\"\"\n",
    "  \n",
    "# Creating slide object to add  \n",
    "# in ppt i.e. Attaching slides  \n",
    "# with Presentation i.e. ppt \n",
    "slide = root.slides.add_slide(first_slide_layout) \n",
    "  \n",
    "# Adding title and subtitle in  \n",
    "# slide i.e. first page of slide  \n",
    "slide.shapes.title.text = \" Created By python-pptx\"\n",
    "  \n",
    "# We have different formats of  \n",
    "# subtitles in ppts, for simple \n",
    "# subtitle this method should  \n",
    "# implemented, you can change \n",
    "# 0 to 1 for different design \n",
    "slide.placeholders[1].text = \" This is 2nd way\"\n",
    "  \n",
    "# Saving file \n",
    "root.save(\"Output.pptx\") \n",
    "  \n",
    "print(\"done\")\n"
   ]
  },
  {
   "cell_type": "code",
   "execution_count": 19,
   "id": "6fee0e91-2192-468d-8641-5df0d5a4e304",
   "metadata": {},
   "outputs": [],
   "source": [
    "#Adding text box is the slide"
   ]
  },
  {
   "cell_type": "code",
   "execution_count": 20,
   "id": "c933e14a-6dbc-42d1-a773-64272a12ea05",
   "metadata": {},
   "outputs": [
    {
     "name": "stdout",
     "output_type": "stream",
     "text": [
      "done\n"
     ]
    }
   ],
   "source": [
    "# import required things \n",
    "from pptx import Presentation  \n",
    "from pptx.util import Inches, Pt \n",
    "  \n",
    "# Creating Object \n",
    "ppt = Presentation()  \n",
    "  \n",
    "# To create blank slide layout \n",
    "# We have to use 6 as an argument \n",
    "# of slide_layouts   \n",
    "blank_slide_layout = ppt.slide_layouts[6]  \n",
    "  \n",
    "# Attaching slide obj to slide \n",
    "slide = ppt.slides.add_slide(blank_slide_layout) \n",
    "  \n",
    "# For adjusting the  Margins in inches  \n",
    "left = top = width = height = Inches(1)  \n",
    "  \n",
    "# creating textBox \n",
    "txBox = slide.shapes.add_textbox(left, top, \n",
    "                                 width, height) \n",
    "  \n",
    "# creating textFrames \n",
    "tf = txBox.text_frame \n",
    "tf.text = \"This is text inside a textbox\"\n",
    "  \n",
    "# adding Paragraphs \n",
    "p = tf.add_paragraph()  \n",
    "  \n",
    "# adding text \n",
    "p.text = \"This is a second paragraph that's bold and italic\" \n",
    "  \n",
    "# font  \n",
    "p.font.bold = True\n",
    "p.font.italic = True\n",
    "  \n",
    "p = tf.add_paragraph() \n",
    "p.text = \"This is a third paragraph that's big \" \n",
    "p.font.size = Pt(40) \n",
    "  \n",
    "# save file \n",
    "ppt.save('test_2.pptx') \n",
    "  \n",
    "print(\"done\") "
   ]
  },
  {
   "cell_type": "code",
   "execution_count": 17,
   "id": "0401a2a6-c2ec-4082-9b45-621da0cdcead",
   "metadata": {},
   "outputs": [],
   "source": [
    "# Program to insert image in the ppt file"
   ]
  },
  {
   "cell_type": "code",
   "execution_count": null,
   "id": "7b9c280a-c6cc-4045-b0c5-17b16b62dfd2",
   "metadata": {},
   "outputs": [],
   "source": []
  }
 ],
 "metadata": {
  "kernelspec": {
   "display_name": "Python 3 (ipykernel)",
   "language": "python",
   "name": "python3"
  },
  "language_info": {
   "codemirror_mode": {
    "name": "ipython",
    "version": 3
   },
   "file_extension": ".py",
   "mimetype": "text/x-python",
   "name": "python",
   "nbconvert_exporter": "python",
   "pygments_lexer": "ipython3",
   "version": "3.12.3"
  }
 },
 "nbformat": 4,
 "nbformat_minor": 5
}
