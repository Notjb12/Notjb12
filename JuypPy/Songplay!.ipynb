{
 "cells": [
  {
   "cell_type": "code",
   "execution_count": 4,
   "id": "f4abaa7d-6d75-4af0-b019-b93b97411f41",
   "metadata": {},
   "outputs": [],
   "source": [
    "import pygame, sys, time\n",
    "\n",
    "pygame.mixer.init()\n",
    "\n",
    "pygame.mixer.music.load('Billie Jean Michael Jackson 128 Kbps.mp3')\n",
    "pygame.mixer.music.unload()"
   ]
  },
  {
   "cell_type": "code",
   "execution_count": null,
   "id": "764498e2-71ee-4a01-a2c9-48187907893f",
   "metadata": {},
   "outputs": [],
   "source": []
  }
 ],
 "metadata": {
  "kernelspec": {
   "display_name": "Python 3 (ipykernel)",
   "language": "python",
   "name": "python3"
  },
  "language_info": {
   "codemirror_mode": {
    "name": "ipython",
    "version": 3
   },
   "file_extension": ".py",
   "mimetype": "text/x-python",
   "name": "python",
   "nbconvert_exporter": "python",
   "pygments_lexer": "ipython3",
   "version": "3.12.3"
  }
 },
 "nbformat": 4,
 "nbformat_minor": 5
}
